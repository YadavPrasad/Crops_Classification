{
  "cells": [
    {
      "cell_type": "code",
      "execution_count": null,
      "metadata": {
        "colab": {
          "base_uri": "https://localhost:8080/"
        },
        "id": "G1Ffh6MhNz0q",
        "outputId": "89728aa6-a565-4da3-9301-0e52464ce775"
      },
      "outputs": [
        {
          "name": "stdout",
          "output_type": "stream",
          "text": [
            "38.0% probability for Small millets\n",
            "13.5% probability for Turmeric\n",
            "13.0% probability for Arecanut\n",
            "8.1% probability for Gram\n",
            "6.5% probability for Ragi\n"
          ]
        }
      ],
      "source": [
        "import pandas as pd\n",
        "from sklearn.preprocessing import OneHotEncoder, StandardScaler, LabelEncoder\n",
        "from sklearn.compose import ColumnTransformer\n",
        "from sklearn.metrics import classification_report\n",
        "import xgboost as xgb\n",
        "import numpy as np\n",
        "import warnings\n",
        "\n",
        "warnings.filterwarnings('ignore')\n",
        "\n",
        "# Load your dataset\n",
        "data = pd.read_csv('tamil_nadu_production.csv')\n",
        "\n",
        "# 1. Data Preprocessing\n",
        "data = data[(data['Area'] > 0) & (data['Production'] > 0)].dropna()\n",
        "\n",
        "# 2. One-Hot Encoding of Categorical Variables and Normalization of Numerical Variables\n",
        "categorical_columns = ['District_Name','Season']\n",
        "numeric_columns = ['Crop_Year','Area','Production']\n",
        "\n",
        "onehotencoder = OneHotEncoder()\n",
        "scaler = StandardScaler()\n",
        "labelencoder = LabelEncoder()\n",
        "\n",
        "preprocessor = ColumnTransformer(\n",
        "    transformers=[\n",
        "        ('cat', onehotencoder, categorical_columns),\n",
        "        ('num', scaler, numeric_columns)\n",
        "    ],\n",
        "    remainder='passthrough'\n",
        ")\n",
        "\n",
        "# Define the features (X) and target (y)\n",
        "X = data[['District_Name', 'Crop_Year', 'Season', 'Area', 'Production']]\n",
        "y = data['Crop']\n",
        "\n",
        "# Fit and transform the preprocessor on the entire dataset\n",
        "X = preprocessor.fit_transform(X)\n",
        "y = labelencoder.fit_transform(y)\n",
        "\n",
        "num_classes = len(np.unique(y))\n",
        "\n",
        "# 3. Model Training\n",
        "model = xgb.XGBClassifier(objective='multi:softprob', num_class=num_classes)\n",
        "\n",
        "model.fit(X, y)\n",
        "\n",
        "# 4. Model Evaluation (Evaluate on the same dataset, since you're not splitting)\n",
        "y_pred = model.predict(X)\n",
        "\n",
        "# Print the classification report\n",
        "#print(classification_report(y, y_pred))\n",
        "\n",
        "# 5. Make Predictions for Crop Recommendation\n",
        "new_data = pd.DataFrame({\n",
        "    'District_Name': ['VIRUDHUNAGAR'],\n",
        "    'Crop_Year': [2024],\n",
        "    'Season': ['Whole Year'],\n",
        "    'Area': [100],\n",
        "    'Production': [500]\n",
        "})\n",
        "\n",
        "new_data_encoded = preprocessor.transform(new_data)\n",
        "\n",
        "predicted_probabilities = model.predict_proba(new_data_encoded)\n",
        "\n",
        "\n",
        "crop_probabilities = [\n",
        "    (labelencoder.inverse_transform([i])[0], prob*100)\n",
        "    for i, prob in enumerate(predicted_probabilities[0])\n",
        "]\n",
        "\n",
        "sorted_crop_probabilities = sorted(crop_probabilities, key=lambda x: x[1], reverse=True)\n",
        "\n",
        "# Print the top 5 crop probabilities\n",
        "for crop_name, prob in sorted_crop_probabilities[:5]:\n",
        "    print(f\"{prob:.1f}% probability for {crop_name}\")"
      ]
    }
  ],
  "metadata": {
    "colab": {
      "provenance": []
    },
    "kernelspec": {
      "display_name": "Python 3",
      "name": "python3"
    },
    "language_info": {
      "name": "python"
    }
  },
  "nbformat": 4,
  "nbformat_minor": 0
}
